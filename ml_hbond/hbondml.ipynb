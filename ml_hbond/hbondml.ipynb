{
 "cells": [
  {
   "cell_type": "markdown",
   "id": "ded9645c-c824-4223-97ef-63f3230ae7b9",
   "metadata": {},
   "source": [
    "# Machine Learning of Hydrogen Bond Strength"
   ]
  },
  {
   "cell_type": "markdown",
   "id": "8a494b16-4d57-4feb-872c-27ec5c7575ec",
   "metadata": {},
   "source": [
    "## Import packages"
   ]
  },
  {
   "cell_type": "code",
   "execution_count": 21,
   "id": "medium-phenomenon",
   "metadata": {},
   "outputs": [],
   "source": [
    "import numpy as np\n",
    "import torch.nn as nn\n",
    "import torch.nn.functional as F\n",
    "import pandas as pd\n",
    "import matplotlib.pyplot as plt\n",
    "import matplotlib.ticker as ticker\n",
    "from torch import Tensor, stack, optim, load, save\n",
    "from torch.utils.data import DataLoader, TensorDataset, random_split"
   ]
  },
  {
   "cell_type": "markdown",
   "id": "b433fdce-95b2-4f61-b5d9-89b146937280",
   "metadata": {
    "tags": []
   },
   "source": [
    "## Read the data"
   ]
  },
  {
   "cell_type": "code",
   "execution_count": 2,
   "id": "independent-switzerland",
   "metadata": {},
   "outputs": [
    {
     "data": {
      "text/html": [
       "<div>\n",
       "<style scoped>\n",
       "    .dataframe tbody tr th:only-of-type {\n",
       "        vertical-align: middle;\n",
       "    }\n",
       "\n",
       "    .dataframe tbody tr th {\n",
       "        vertical-align: top;\n",
       "    }\n",
       "\n",
       "    .dataframe thead th {\n",
       "        text-align: right;\n",
       "    }\n",
       "</style>\n",
       "<table border=\"1\" class=\"dataframe\">\n",
       "  <thead>\n",
       "    <tr style=\"text-align: right;\">\n",
       "      <th></th>\n",
       "      <th>Acid</th>\n",
       "      <th>Base</th>\n",
       "      <th>Agroup</th>\n",
       "      <th>Aeneg</th>\n",
       "      <th>Asize</th>\n",
       "      <th>Beneg</th>\n",
       "      <th>Bsize</th>\n",
       "      <th>Δν</th>\n",
       "      <th>-ΔH (kJ mol-1)</th>\n",
       "    </tr>\n",
       "  </thead>\n",
       "  <tbody>\n",
       "    <tr>\n",
       "      <th>0</th>\n",
       "      <td>(CCl3)2CHOH</td>\n",
       "      <td>Acetonitrile</td>\n",
       "      <td>COH</td>\n",
       "      <td>3.41</td>\n",
       "      <td>150</td>\n",
       "      <td>2.90</td>\n",
       "      <td>166.0</td>\n",
       "      <td>211.0</td>\n",
       "      <td>22.6</td>\n",
       "    </tr>\n",
       "    <tr>\n",
       "      <th>1</th>\n",
       "      <td>(CH2Cl)2CHOH</td>\n",
       "      <td>Acetonitrile</td>\n",
       "      <td>COH</td>\n",
       "      <td>3.41</td>\n",
       "      <td>150</td>\n",
       "      <td>2.90</td>\n",
       "      <td>166.0</td>\n",
       "      <td>102.0</td>\n",
       "      <td>14.2</td>\n",
       "    </tr>\n",
       "    <tr>\n",
       "      <th>2</th>\n",
       "      <td>(CHCl2)2CHOH</td>\n",
       "      <td>Acetonitrile</td>\n",
       "      <td>COH</td>\n",
       "      <td>3.41</td>\n",
       "      <td>150</td>\n",
       "      <td>2.90</td>\n",
       "      <td>166.0</td>\n",
       "      <td>174.0</td>\n",
       "      <td>19.8</td>\n",
       "    </tr>\n",
       "    <tr>\n",
       "      <th>3</th>\n",
       "      <td>Acetic acid</td>\n",
       "      <td>Pyridine</td>\n",
       "      <td>COOH</td>\n",
       "      <td>3.41</td>\n",
       "      <td>150</td>\n",
       "      <td>2.90</td>\n",
       "      <td>166.0</td>\n",
       "      <td>1000.0</td>\n",
       "      <td>40.0</td>\n",
       "    </tr>\n",
       "    <tr>\n",
       "      <th>4</th>\n",
       "      <td>Acetic acid</td>\n",
       "      <td>Dimethyl sulfoxide</td>\n",
       "      <td>COOH</td>\n",
       "      <td>3.41</td>\n",
       "      <td>150</td>\n",
       "      <td>3.41</td>\n",
       "      <td>150.0</td>\n",
       "      <td>840.0</td>\n",
       "      <td>33.5</td>\n",
       "    </tr>\n",
       "  </tbody>\n",
       "</table>\n",
       "</div>"
      ],
      "text/plain": [
       "           Acid                Base Agroup  Aeneg  Asize  Beneg  Bsize  \\\n",
       "0   (CCl3)2CHOH        Acetonitrile    COH   3.41    150   2.90  166.0   \n",
       "1  (CH2Cl)2CHOH        Acetonitrile    COH   3.41    150   2.90  166.0   \n",
       "2  (CHCl2)2CHOH        Acetonitrile    COH   3.41    150   2.90  166.0   \n",
       "3   Acetic acid            Pyridine   COOH   3.41    150   2.90  166.0   \n",
       "4   Acetic acid  Dimethyl sulfoxide   COOH   3.41    150   3.41  150.0   \n",
       "\n",
       "       Δν  -ΔH (kJ mol-1)  \n",
       "0   211.0            22.6  \n",
       "1   102.0            14.2  \n",
       "2   174.0            19.8  \n",
       "3  1000.0            40.0  \n",
       "4   840.0            33.5  "
      ]
     },
     "execution_count": 2,
     "metadata": {},
     "output_type": "execute_result"
    }
   ],
   "source": [
    "# Read the data\n",
    "DATA_FILE = \"hbonddata.xlsx\"\n",
    "dataframe_raw = pd.read_excel(DATA_FILE,sheet_name='data')\n",
    "dataframe_raw = dataframe_raw.filter(items=['Acid', 'Base', 'Agroup', 'Aeneg', 'Asize', 'Beneg', 'Bsize', 'Δν', '-ΔH (kJ mol-1)'])\n",
    "# Drop the rows with NANs. \n",
    "dataframe_raw = dataframe_raw.dropna(axis=0, how = 'any')\n",
    "dataframe_raw.head()"
   ]
  },
  {
   "cell_type": "markdown",
   "id": "ac969508-2669-481d-aa8b-bbafc778455e",
   "metadata": {},
   "source": [
    "## Data preparation"
   ]
  },
  {
   "cell_type": "code",
   "execution_count": 3,
   "id": "governing-mercury",
   "metadata": {},
   "outputs": [
    {
     "data": {
      "text/html": [
       "<div>\n",
       "<style scoped>\n",
       "    .dataframe tbody tr th:only-of-type {\n",
       "        vertical-align: middle;\n",
       "    }\n",
       "\n",
       "    .dataframe tbody tr th {\n",
       "        vertical-align: top;\n",
       "    }\n",
       "\n",
       "    .dataframe thead th {\n",
       "        text-align: right;\n",
       "    }\n",
       "</style>\n",
       "<table border=\"1\" class=\"dataframe\">\n",
       "  <thead>\n",
       "    <tr style=\"text-align: right;\">\n",
       "      <th></th>\n",
       "      <th>Acid</th>\n",
       "      <th>Base</th>\n",
       "      <th>Agroup</th>\n",
       "      <th>Aeneg</th>\n",
       "      <th>Asize</th>\n",
       "      <th>Beneg</th>\n",
       "      <th>Bsize</th>\n",
       "      <th>Δν</th>\n",
       "      <th>ΔH</th>\n",
       "    </tr>\n",
       "  </thead>\n",
       "  <tbody>\n",
       "    <tr>\n",
       "      <th>0</th>\n",
       "      <td>(CCl3)2CHOH</td>\n",
       "      <td>Acetonitrile</td>\n",
       "      <td>COH</td>\n",
       "      <td>3.41</td>\n",
       "      <td>150</td>\n",
       "      <td>2.90</td>\n",
       "      <td>166.0</td>\n",
       "      <td>211.0</td>\n",
       "      <td>22.6</td>\n",
       "    </tr>\n",
       "    <tr>\n",
       "      <th>1</th>\n",
       "      <td>(CH2Cl)2CHOH</td>\n",
       "      <td>Acetonitrile</td>\n",
       "      <td>COH</td>\n",
       "      <td>3.41</td>\n",
       "      <td>150</td>\n",
       "      <td>2.90</td>\n",
       "      <td>166.0</td>\n",
       "      <td>102.0</td>\n",
       "      <td>14.2</td>\n",
       "    </tr>\n",
       "    <tr>\n",
       "      <th>2</th>\n",
       "      <td>(CHCl2)2CHOH</td>\n",
       "      <td>Acetonitrile</td>\n",
       "      <td>COH</td>\n",
       "      <td>3.41</td>\n",
       "      <td>150</td>\n",
       "      <td>2.90</td>\n",
       "      <td>166.0</td>\n",
       "      <td>174.0</td>\n",
       "      <td>19.8</td>\n",
       "    </tr>\n",
       "    <tr>\n",
       "      <th>3</th>\n",
       "      <td>Acetic acid</td>\n",
       "      <td>Pyridine</td>\n",
       "      <td>COOH</td>\n",
       "      <td>3.41</td>\n",
       "      <td>150</td>\n",
       "      <td>2.90</td>\n",
       "      <td>166.0</td>\n",
       "      <td>1000.0</td>\n",
       "      <td>40.0</td>\n",
       "    </tr>\n",
       "    <tr>\n",
       "      <th>4</th>\n",
       "      <td>Acetic acid</td>\n",
       "      <td>Dimethyl sulfoxide</td>\n",
       "      <td>COOH</td>\n",
       "      <td>3.41</td>\n",
       "      <td>150</td>\n",
       "      <td>3.41</td>\n",
       "      <td>150.0</td>\n",
       "      <td>840.0</td>\n",
       "      <td>33.5</td>\n",
       "    </tr>\n",
       "  </tbody>\n",
       "</table>\n",
       "</div>"
      ],
      "text/plain": [
       "           Acid                Base Agroup  Aeneg  Asize  Beneg  Bsize  \\\n",
       "0   (CCl3)2CHOH        Acetonitrile    COH   3.41    150   2.90  166.0   \n",
       "1  (CH2Cl)2CHOH        Acetonitrile    COH   3.41    150   2.90  166.0   \n",
       "2  (CHCl2)2CHOH        Acetonitrile    COH   3.41    150   2.90  166.0   \n",
       "3   Acetic acid            Pyridine   COOH   3.41    150   2.90  166.0   \n",
       "4   Acetic acid  Dimethyl sulfoxide   COOH   3.41    150   3.41  150.0   \n",
       "\n",
       "       Δν    ΔH  \n",
       "0   211.0  22.6  \n",
       "1   102.0  14.2  \n",
       "2   174.0  19.8  \n",
       "3  1000.0  40.0  \n",
       "4   840.0  33.5  "
      ]
     },
     "execution_count": 3,
     "metadata": {},
     "output_type": "execute_result"
    }
   ],
   "source": [
    "# Rename the columns\n",
    "dataframe_raw.rename(columns={'-ΔH (kJ mol-1)': 'ΔH'}, inplace =True)\n",
    "dataframe_raw.head()"
   ]
  },
  {
   "cell_type": "code",
   "execution_count": 4,
   "id": "parallel-candidate",
   "metadata": {},
   "outputs": [
    {
     "data": {
      "text/html": [
       "<div>\n",
       "<style scoped>\n",
       "    .dataframe tbody tr th:only-of-type {\n",
       "        vertical-align: middle;\n",
       "    }\n",
       "\n",
       "    .dataframe tbody tr th {\n",
       "        vertical-align: top;\n",
       "    }\n",
       "\n",
       "    .dataframe thead th {\n",
       "        text-align: right;\n",
       "    }\n",
       "</style>\n",
       "<table border=\"1\" class=\"dataframe\">\n",
       "  <thead>\n",
       "    <tr style=\"text-align: right;\">\n",
       "      <th></th>\n",
       "      <th>Aeneg</th>\n",
       "      <th>Asize</th>\n",
       "      <th>Beneg</th>\n",
       "      <th>Bsize</th>\n",
       "      <th>Δν</th>\n",
       "      <th>ΔH</th>\n",
       "    </tr>\n",
       "  </thead>\n",
       "  <tbody>\n",
       "    <tr>\n",
       "      <th>count</th>\n",
       "      <td>318.000000</td>\n",
       "      <td>318.000000</td>\n",
       "      <td>318.000000</td>\n",
       "      <td>318.000000</td>\n",
       "      <td>318.000000</td>\n",
       "      <td>318.000000</td>\n",
       "    </tr>\n",
       "    <tr>\n",
       "      <th>mean</th>\n",
       "      <td>3.238428</td>\n",
       "      <td>155.789308</td>\n",
       "      <td>3.172390</td>\n",
       "      <td>157.122642</td>\n",
       "      <td>317.967614</td>\n",
       "      <td>19.464534</td>\n",
       "    </tr>\n",
       "    <tr>\n",
       "      <th>std</th>\n",
       "      <td>0.325150</td>\n",
       "      <td>10.909563</td>\n",
       "      <td>0.303832</td>\n",
       "      <td>8.586949</td>\n",
       "      <td>350.151747</td>\n",
       "      <td>11.840464</td>\n",
       "    </tr>\n",
       "    <tr>\n",
       "      <th>min</th>\n",
       "      <td>2.480000</td>\n",
       "      <td>150.000000</td>\n",
       "      <td>2.040000</td>\n",
       "      <td>150.000000</td>\n",
       "      <td>1.000000</td>\n",
       "      <td>0.700000</td>\n",
       "    </tr>\n",
       "    <tr>\n",
       "      <th>25%</th>\n",
       "      <td>3.410000</td>\n",
       "      <td>150.000000</td>\n",
       "      <td>2.900000</td>\n",
       "      <td>150.000000</td>\n",
       "      <td>109.192487</td>\n",
       "      <td>10.632760</td>\n",
       "    </tr>\n",
       "    <tr>\n",
       "      <th>50%</th>\n",
       "      <td>3.410000</td>\n",
       "      <td>150.000000</td>\n",
       "      <td>3.410000</td>\n",
       "      <td>150.000000</td>\n",
       "      <td>218.741953</td>\n",
       "      <td>17.600000</td>\n",
       "    </tr>\n",
       "    <tr>\n",
       "      <th>75%</th>\n",
       "      <td>3.410000</td>\n",
       "      <td>150.000000</td>\n",
       "      <td>3.410000</td>\n",
       "      <td>166.000000</td>\n",
       "      <td>364.500000</td>\n",
       "      <td>25.104000</td>\n",
       "    </tr>\n",
       "    <tr>\n",
       "      <th>max</th>\n",
       "      <td>3.410000</td>\n",
       "      <td>189.000000</td>\n",
       "      <td>3.410000</td>\n",
       "      <td>177.000000</td>\n",
       "      <td>2300.000000</td>\n",
       "      <td>67.000000</td>\n",
       "    </tr>\n",
       "  </tbody>\n",
       "</table>\n",
       "</div>"
      ],
      "text/plain": [
       "            Aeneg       Asize       Beneg       Bsize           Δν          ΔH\n",
       "count  318.000000  318.000000  318.000000  318.000000   318.000000  318.000000\n",
       "mean     3.238428  155.789308    3.172390  157.122642   317.967614   19.464534\n",
       "std      0.325150   10.909563    0.303832    8.586949   350.151747   11.840464\n",
       "min      2.480000  150.000000    2.040000  150.000000     1.000000    0.700000\n",
       "25%      3.410000  150.000000    2.900000  150.000000   109.192487   10.632760\n",
       "50%      3.410000  150.000000    3.410000  150.000000   218.741953   17.600000\n",
       "75%      3.410000  150.000000    3.410000  166.000000   364.500000   25.104000\n",
       "max      3.410000  189.000000    3.410000  177.000000  2300.000000   67.000000"
      ]
     },
     "execution_count": 4,
     "metadata": {},
     "output_type": "execute_result"
    }
   ],
   "source": [
    "# Check the info of the data\n",
    "dataframe_raw.describe()"
   ]
  },
  {
   "cell_type": "code",
   "execution_count": 5,
   "id": "nervous-marina",
   "metadata": {},
   "outputs": [
    {
     "data": {
      "text/html": [
       "<div>\n",
       "<style scoped>\n",
       "    .dataframe tbody tr th:only-of-type {\n",
       "        vertical-align: middle;\n",
       "    }\n",
       "\n",
       "    .dataframe tbody tr th {\n",
       "        vertical-align: top;\n",
       "    }\n",
       "\n",
       "    .dataframe thead th {\n",
       "        text-align: right;\n",
       "    }\n",
       "</style>\n",
       "<table border=\"1\" class=\"dataframe\">\n",
       "  <thead>\n",
       "    <tr style=\"text-align: right;\">\n",
       "      <th></th>\n",
       "      <th>Agroup</th>\n",
       "      <th>Aeneg</th>\n",
       "      <th>Asize</th>\n",
       "      <th>Beneg</th>\n",
       "      <th>Bsize</th>\n",
       "      <th>Δν</th>\n",
       "      <th>ΔH</th>\n",
       "    </tr>\n",
       "  </thead>\n",
       "  <tbody>\n",
       "    <tr>\n",
       "      <th>135</th>\n",
       "      <td>NH</td>\n",
       "      <td>2.90</td>\n",
       "      <td>166</td>\n",
       "      <td>2.90</td>\n",
       "      <td>166.0</td>\n",
       "      <td>25.250000</td>\n",
       "      <td>8.085000</td>\n",
       "    </tr>\n",
       "    <tr>\n",
       "      <th>67</th>\n",
       "      <td>PhOH</td>\n",
       "      <td>3.41</td>\n",
       "      <td>150</td>\n",
       "      <td>3.41</td>\n",
       "      <td>150.0</td>\n",
       "      <td>341.380000</td>\n",
       "      <td>35.175000</td>\n",
       "    </tr>\n",
       "    <tr>\n",
       "      <th>163</th>\n",
       "      <td>C6Cl5OH</td>\n",
       "      <td>3.41</td>\n",
       "      <td>150</td>\n",
       "      <td>3.41</td>\n",
       "      <td>150.0</td>\n",
       "      <td>585.800000</td>\n",
       "      <td>32.970000</td>\n",
       "    </tr>\n",
       "    <tr>\n",
       "      <th>177</th>\n",
       "      <td>PhOH</td>\n",
       "      <td>3.41</td>\n",
       "      <td>150</td>\n",
       "      <td>3.41</td>\n",
       "      <td>150.0</td>\n",
       "      <td>595.900000</td>\n",
       "      <td>35.595000</td>\n",
       "    </tr>\n",
       "    <tr>\n",
       "      <th>136</th>\n",
       "      <td>NH</td>\n",
       "      <td>2.90</td>\n",
       "      <td>166</td>\n",
       "      <td>2.36</td>\n",
       "      <td>177.0</td>\n",
       "      <td>15.150000</td>\n",
       "      <td>6.720000</td>\n",
       "    </tr>\n",
       "    <tr>\n",
       "      <th>...</th>\n",
       "      <td>...</td>\n",
       "      <td>...</td>\n",
       "      <td>...</td>\n",
       "      <td>...</td>\n",
       "      <td>...</td>\n",
       "      <td>...</td>\n",
       "      <td>...</td>\n",
       "    </tr>\n",
       "    <tr>\n",
       "      <th>224</th>\n",
       "      <td>PhOH</td>\n",
       "      <td>3.41</td>\n",
       "      <td>150</td>\n",
       "      <td>2.90</td>\n",
       "      <td>166.0</td>\n",
       "      <td>687.810000</td>\n",
       "      <td>31.185000</td>\n",
       "    </tr>\n",
       "    <tr>\n",
       "      <th>171</th>\n",
       "      <td>COH</td>\n",
       "      <td>3.41</td>\n",
       "      <td>150</td>\n",
       "      <td>2.90</td>\n",
       "      <td>166.0</td>\n",
       "      <td>366.630000</td>\n",
       "      <td>28.140000</td>\n",
       "    </tr>\n",
       "    <tr>\n",
       "      <th>288</th>\n",
       "      <td>PhSH</td>\n",
       "      <td>2.69</td>\n",
       "      <td>189</td>\n",
       "      <td>2.36</td>\n",
       "      <td>177.0</td>\n",
       "      <td>20.200000</td>\n",
       "      <td>2.205000</td>\n",
       "    </tr>\n",
       "    <tr>\n",
       "      <th>91</th>\n",
       "      <td>COH</td>\n",
       "      <td>3.41</td>\n",
       "      <td>150</td>\n",
       "      <td>2.90</td>\n",
       "      <td>166.0</td>\n",
       "      <td>286.959735</td>\n",
       "      <td>16.869888</td>\n",
       "    </tr>\n",
       "    <tr>\n",
       "      <th>98</th>\n",
       "      <td>COH</td>\n",
       "      <td>3.41</td>\n",
       "      <td>150</td>\n",
       "      <td>2.90</td>\n",
       "      <td>166.0</td>\n",
       "      <td>336.882216</td>\n",
       "      <td>21.878136</td>\n",
       "    </tr>\n",
       "  </tbody>\n",
       "</table>\n",
       "<p>270 rows × 7 columns</p>\n",
       "</div>"
      ],
      "text/plain": [
       "      Agroup  Aeneg  Asize  Beneg  Bsize          Δν         ΔH\n",
       "135       NH   2.90    166   2.90  166.0   25.250000   8.085000\n",
       "67      PhOH   3.41    150   3.41  150.0  341.380000  35.175000\n",
       "163  C6Cl5OH   3.41    150   3.41  150.0  585.800000  32.970000\n",
       "177     PhOH   3.41    150   3.41  150.0  595.900000  35.595000\n",
       "136       NH   2.90    166   2.36  177.0   15.150000   6.720000\n",
       "..       ...    ...    ...    ...    ...         ...        ...\n",
       "224     PhOH   3.41    150   2.90  166.0  687.810000  31.185000\n",
       "171      COH   3.41    150   2.90  166.0  366.630000  28.140000\n",
       "288     PhSH   2.69    189   2.36  177.0   20.200000   2.205000\n",
       "91       COH   3.41    150   2.90  166.0  286.959735  16.869888\n",
       "98       COH   3.41    150   2.90  166.0  336.882216  21.878136\n",
       "\n",
       "[270 rows x 7 columns]"
      ]
     },
     "execution_count": 5,
     "metadata": {},
     "output_type": "execute_result"
    }
   ],
   "source": [
    "your_text = \"Lei-Lei-alpha machine learning h-bond strength\" # at least 5 characters\n",
    "def customize_dataset(dataframe_raw, rand_str):\n",
    "    dataframe = dataframe_raw.copy(deep=True)\n",
    "    # drop some rows\n",
    "    dataframe = dataframe.sample(int(0.85*len(dataframe)), random_state=int(ord(rand_str[0])))\n",
    "    # scale input\n",
    "    dataframe.Δν = dataframe.Δν * ord(rand_str[1])/100.\n",
    "    # scale target\n",
    "    dataframe.ΔH = dataframe.ΔH * ord(rand_str[2])/100.\n",
    "    # drop column\n",
    "    if ord(rand_str[3]) % 2 == 1:\n",
    "        dataframe = dataframe.drop(['Acid','Base'], axis=1)\n",
    "    return dataframe\n",
    "\n",
    "dataframe = customize_dataset(dataframe_raw, your_text)\n",
    "dataframe"
   ]
  },
  {
   "cell_type": "code",
   "execution_count": 6,
   "id": "romance-north",
   "metadata": {},
   "outputs": [],
   "source": [
    "input_cols = ['Aeneg', 'Asize', 'Beneg', 'Bsize', 'Δν']\n",
    "categorical_cols = ['Agroup']\n",
    "output_cols = ['ΔH']"
   ]
  },
  {
   "cell_type": "code",
   "execution_count": 7,
   "id": "behavioral-japan",
   "metadata": {},
   "outputs": [],
   "source": [
    "def dataframe_to_arrays(dataframe):\n",
    "    # Make a copy of the original dataframe\n",
    "    dataframe1 = dataframe.copy(deep=True)\n",
    "    # Convert non-numeric categorical columns to numbers\n",
    "    for col in categorical_cols:\n",
    "        dataframe1[col] = dataframe1[col].astype('category').cat.codes\n",
    "    # Extract input & outupts as numpy arrays\n",
    "    inputs_array = dataframe1[input_cols].to_numpy()\n",
    "    targets_array = dataframe1[output_cols].to_numpy()\n",
    "    return inputs_array, targets_array\n",
    "\n",
    "inputs_array, targets_array = dataframe_to_arrays(dataframe)\n",
    "# inputs_array, targets_array"
   ]
  },
  {
   "cell_type": "code",
   "execution_count": 8,
   "id": "proud-grass",
   "metadata": {},
   "outputs": [],
   "source": [
    "inputs = Tensor(inputs_array)\n",
    "targets = Tensor(targets_array)\n",
    "\n",
    "dataset = TensorDataset(inputs, targets)\n",
    "train_ds, val_ds = random_split(dataset, [225, 45])\n",
    "batch_size = 100\n",
    "\n",
    "train_loader = DataLoader(train_ds, batch_size, shuffle=True)\n",
    "val_loader = DataLoader(val_ds, batch_size)"
   ]
  },
  {
   "cell_type": "markdown",
   "id": "a4d6f668-398a-4483-b57d-241bcf5f236a",
   "metadata": {},
   "source": [
    "## Creat machine learning model object"
   ]
  },
  {
   "cell_type": "code",
   "execution_count": 9,
   "id": "corrected-bacteria",
   "metadata": {},
   "outputs": [],
   "source": [
    "class HbondModel(nn.Module):\n",
    "    def __init__(self, input_size, output_size, H = None, criterion = None):\n",
    "        super().__init__()\n",
    "        if H is None:\n",
    "            H = 30\n",
    "        if criterion is None:\n",
    "            criterion = nn.MSELoss(reduction='sum')\n",
    "        self.H = H\n",
    "        self.criterion = criterion\n",
    "        self.input_linear = nn.Linear(input_size, self.H)\n",
    "        self.middle_linear = nn.Linear(self.H, self.H)\n",
    "        self.output_linear = nn.Linear(self.H, output_size)\n",
    "               \n",
    "    def forward(self, xb):\n",
    "        out = F.relu(self.input_linear(xb))\n",
    "        out = F.relu(self.middle_linear(out))\n",
    "        out = self.output_linear(out)\n",
    "        return out\n",
    "    \n",
    "    def training_step(self, batch):\n",
    "        inputs, targets = batch \n",
    "        # Generate predictions\n",
    "        out = self(inputs)          \n",
    "        # Calcuate loss\n",
    "        loss = self.criterion(out, targets) \n",
    "        return loss\n",
    "    \n",
    "    def validation_step(self, batch):\n",
    "        inputs, targets = batch\n",
    "        # Generate predictions\n",
    "        out = self(inputs)\n",
    "        # Calculate loss\n",
    "        loss = self.criterion(out, targets) \n",
    "        return {'val_loss': loss.detach()}\n",
    "        \n",
    "    def validation_epoch_end(self, outputs):\n",
    "        batch_losses = [x['val_loss'] for x in outputs]\n",
    "        epoch_loss = stack(batch_losses).mean()   # Combine losses\n",
    "        return {'val_loss': epoch_loss.item()}\n",
    "    \n",
    "    def epoch_end(self, epoch, result, num_epochs):\n",
    "        # Print result every 20th epoch\n",
    "        if (epoch+1) % 5 == 0 or epoch == num_epochs-1:\n",
    "            print(\"Epoch [{}], val_loss: {:.4f}\".format(epoch+1, result['val_loss']))"
   ]
  },
  {
   "cell_type": "markdown",
   "id": "33a2b51b-b3b8-4ecd-a99e-7ee7f653cc6e",
   "metadata": {},
   "source": [
    "### Create machine learning model"
   ]
  },
  {
   "cell_type": "code",
   "execution_count": 10,
   "id": "musical-psychiatry",
   "metadata": {},
   "outputs": [
    {
     "name": "stdout",
     "output_type": "stream",
     "text": [
      "{'val_loss': 98381.7890625}\n"
     ]
    }
   ],
   "source": [
    "input_size = len(input_cols)\n",
    "output_size = len(output_cols)\n",
    "\n",
    "model = HbondModel(input_size = input_size, output_size = output_size)\n",
    "\n",
    "# Eval algorithm\n",
    "def evaluate(model, val_loader):\n",
    "    outputs = [model.validation_step(batch) for batch in val_loader]\n",
    "    return model.validation_epoch_end(outputs)\n",
    "\n",
    "result = evaluate(model, val_loader)\n",
    "print(result)"
   ]
  },
  {
   "cell_type": "markdown",
   "id": "1312914e-e751-469e-987f-de2c46796a7a",
   "metadata": {},
   "source": [
    "### Learning from data"
   ]
  },
  {
   "cell_type": "code",
   "execution_count": 11,
   "id": "continuous-mechanism",
   "metadata": {},
   "outputs": [],
   "source": [
    "# Fitting algorithm\n",
    "def fit(epochs, lr, model, train_loader, val_loader, opt_func = optim.AdamW):\n",
    "    history = []\n",
    "    optimizer = opt_func(model.parameters(), lr)\n",
    "    for epoch in range(epochs):\n",
    "        # Training Phase \n",
    "        for batch in train_loader:\n",
    "            loss = model.training_step(batch)\n",
    "            loss.backward()\n",
    "            optimizer.step()\n",
    "            optimizer.zero_grad()\n",
    "        # Validation phase\n",
    "        result = evaluate(model, val_loader)\n",
    "        model.epoch_end(epoch, result, epochs)\n",
    "        history.append(result)\n",
    "    return history"
   ]
  },
  {
   "cell_type": "code",
   "execution_count": 12,
   "id": "simple-palestine",
   "metadata": {},
   "outputs": [
    {
     "name": "stdout",
     "output_type": "stream",
     "text": [
      "Epoch [5], val_loss: 6901.0122\n",
      "Epoch [10], val_loss: 1563.0426\n",
      "Epoch [15], val_loss: 692.6450\n",
      "Epoch [20], val_loss: 552.6982\n",
      "Epoch [25], val_loss: 491.0632\n",
      "Epoch [30], val_loss: 491.7846\n",
      "Epoch [35], val_loss: 493.2340\n",
      "Epoch [40], val_loss: 494.2009\n"
     ]
    }
   ],
   "source": [
    "epochs = 40\n",
    "lr = 1e-2\n",
    "history = fit(epochs, lr, model, train_loader, val_loader)"
   ]
  },
  {
   "cell_type": "code",
   "execution_count": 13,
   "id": "classical-insert",
   "metadata": {},
   "outputs": [
    {
     "name": "stdout",
     "output_type": "stream",
     "text": [
      "Epoch [5], val_loss: 515.8298\n",
      "Epoch [10], val_loss: 496.2481\n",
      "Epoch [15], val_loss: 481.7626\n",
      "Epoch [20], val_loss: 472.0259\n"
     ]
    }
   ],
   "source": [
    "epochs = 20\n",
    "lr = 1e-3\n",
    "history = fit(epochs, lr, model, train_loader, val_loader)"
   ]
  },
  {
   "cell_type": "markdown",
   "id": "6472bf26-bc4b-4d56-9066-0c519d5d7395",
   "metadata": {},
   "source": [
    "### Model validation"
   ]
  },
  {
   "cell_type": "code",
   "execution_count": 14,
   "id": "comprehensive-somerset",
   "metadata": {},
   "outputs": [
    {
     "name": "stdout",
     "output_type": "stream",
     "text": [
      "Input: [  3.41    150.        2.9     166.      308.07565]\n",
      "Target: [18.583237]\n",
      "Prediction: [23.197094]\n"
     ]
    },
    {
     "data": {
      "text/plain": [
       "tensor([23.1971])"
      ]
     },
     "execution_count": 14,
     "metadata": {},
     "output_type": "execute_result"
    }
   ],
   "source": [
    "# Prediction Algorithm\n",
    "def validation(input, target, model):\n",
    "    inputs = input.unsqueeze(0)\n",
    "    predictions = model(inputs)\n",
    "    prediction = predictions[0].detach()\n",
    "    np.set_printoptions(suppress=True)\n",
    "    print(\"Input:\", input.numpy())\n",
    "    print(\"Target:\", target.numpy())\n",
    "    print(\"Prediction:\", prediction.numpy())\n",
    "    return prediction\n",
    "\n",
    "# Testing the model with some samples\n",
    "input, target = val_ds[0]\n",
    "validation(input, target, model)"
   ]
  },
  {
   "cell_type": "code",
   "execution_count": 15,
   "id": "digital-scroll",
   "metadata": {},
   "outputs": [
    {
     "name": "stdout",
     "output_type": "stream",
     "text": [
      "Input: [[   3.41      150.          2.9       166.        308.07565 ]\n",
      " [   2.48      177.          3.41      150.          6.06    ]\n",
      " [   3.41      150.          2.9       166.        475.71    ]\n",
      " [   3.41      150.          2.04      177.         82.00811 ]\n",
      " [   3.41      150.          2.04      177.         80.8     ]\n",
      " [   3.41      150.          3.41      150.        102.20385 ]\n",
      " [   3.41      150.          2.9       166.        244.06433 ]\n",
      " [   3.41      150.          3.41      150.        558.8157  ]\n",
      " [   2.9       166.          2.36      177.         15.15    ]\n",
      " [   3.41      150.          3.41      150.         81.489204]\n",
      " [   3.41      150.          3.41      150.        326.45697 ]\n",
      " [   3.41      150.          2.9       166.        245.16183 ]\n",
      " [   3.41      150.          2.9       166.        828.2     ]\n",
      " [   3.1       182.          2.04      177.        120.19    ]\n",
      " [   3.41      150.          2.9       166.         60.6     ]\n",
      " [   3.41      150.          3.41      150.        161.53348 ]\n",
      " [   2.48      177.          3.41      150.         12.12    ]\n",
      " [   3.41      150.          2.9       166.       1040.3     ]\n",
      " [   3.41      150.          2.9       166.        469.65    ]\n",
      " [   2.48      177.          3.41      150.         15.15    ]\n",
      " [   3.41      150.          2.9       166.        286.95975 ]\n",
      " [   3.41      150.          2.9       166.        590.3166  ]\n",
      " [   3.41      150.          2.9       166.       1252.4     ]\n",
      " [   2.9       166.          2.9       166.        399.96    ]\n",
      " [   3.41      150.          2.9       166.        401.98    ]\n",
      " [   3.41      150.          2.9       166.         21.21    ]\n",
      " [   2.9       166.          3.41      150.        158.57    ]\n",
      " [   3.41      150.          3.41      150.         93.93    ]\n",
      " [   3.41      150.          2.9       166.        101.      ]\n",
      " [   3.41      150.          3.41      150.        197.96    ]\n",
      " [   3.41      150.          3.41      150.        127.26    ]\n",
      " [   3.41      150.          3.41      150.        277.75    ]\n",
      " [   3.41      150.          3.41      150.        311.08    ]\n",
      " [   3.41      150.          2.9       166.       1074.8892  ]\n",
      " [   3.41      150.          3.41      150.        352.67502 ]\n",
      " [   2.48      177.          3.41      150.         33.33    ]\n",
      " [   2.9       166.          3.41      150.        231.29    ]\n",
      " [   3.41      150.          2.9       166.        103.02    ]\n",
      " [   3.41      150.          3.41      150.        111.1     ]\n",
      " [   3.41      150.          3.41      150.         55.55    ]\n",
      " [   3.41      150.          2.9       166.       1286.5177  ]\n",
      " [   3.41      150.          2.9       166.        961.52    ]\n",
      " [   3.41      150.          2.9       166.        199.98    ]\n",
      " [   3.41      150.          2.9       166.        288.86    ]\n",
      " [   3.41      150.          3.41      150.        217.15    ]]\n",
      "Target: [[18.583237]\n",
      " [ 3.15    ]\n",
      " [30.7524  ]\n",
      " [ 8.434944]\n",
      " [ 8.4     ]\n",
      " [14.014308]\n",
      " [18.187847]\n",
      " [31.8507  ]\n",
      " [ 6.72    ]\n",
      " [10.236156]\n",
      " [22.84464 ]\n",
      " [14.014308]\n",
      " [40.005   ]\n",
      " [10.5     ]\n",
      " [ 7.035   ]\n",
      " [16.342705]\n",
      " [ 3.36    ]\n",
      " [46.56792 ]\n",
      " [35.1456  ]\n",
      " [ 4.935   ]\n",
      " [16.869888]\n",
      " [30.31308 ]\n",
      " [45.15    ]\n",
      " [19.425   ]\n",
      " [26.355   ]\n",
      " [ 3.15    ]\n",
      " [13.86    ]\n",
      " [ 9.66    ]\n",
      " [10.29    ]\n",
      " [21.525   ]\n",
      " [16.275   ]\n",
      " [22.89    ]\n",
      " [21.21    ]\n",
      " [41.7354  ]\n",
      " [28.99512 ]\n",
      " [ 5.04    ]\n",
      " [14.07    ]\n",
      " [14.91    ]\n",
      " [ 9.66    ]\n",
      " [ 1.785   ]\n",
      " [43.932   ]\n",
      " [41.7354  ]\n",
      " [11.865   ]\n",
      " [21.945   ]\n",
      " [23.28396 ]]\n",
      "Prediction: [[23.197092 ]\n",
      " [ 3.9775066]\n",
      " [30.087765 ]\n",
      " [10.536298 ]\n",
      " [10.44056  ]\n",
      " [11.321591 ]\n",
      " [20.087713 ]\n",
      " [31.512295 ]\n",
      " [ 4.616429 ]\n",
      " [ 9.694473 ]\n",
      " [23.333784 ]\n",
      " [20.1395   ]\n",
      " [39.33699  ]\n",
      " [13.359814 ]\n",
      " [ 8.286043 ]\n",
      " [15.848949 ]\n",
      " [ 4.314241 ]\n",
      " [43.37979  ]\n",
      " [29.838665 ]\n",
      " [ 4.482607 ]\n",
      " [22.329115 ]\n",
      " [33.329025 ]\n",
      " [47.839844 ]\n",
      " [27.401665 ]\n",
      " [27.057068 ]\n",
      " [ 4.9124722]\n",
      " [15.630441 ]\n",
      " [10.672791 ]\n",
      " [11.698722 ]\n",
      " [17.570536 ]\n",
      " [13.286396 ]\n",
      " [21.331665 ]\n",
      " [22.701708 ]\n",
      " [44.107132 ]\n",
      " [24.411488 ]\n",
      " [ 5.661511 ]\n",
      " [19.657766 ]\n",
      " [11.85859  ]\n",
      " [12.019193 ]\n",
      " [ 7.5383   ]\n",
      " [48.557274 ]\n",
      " [41.80944  ]\n",
      " [18.019804 ]\n",
      " [22.407225 ]\n",
      " [18.460983 ]]\n"
     ]
    }
   ],
   "source": [
    "val_value, target = val_ds[:]\n",
    "predictions = validation(val_value, target, model)"
   ]
  },
  {
   "cell_type": "code",
   "execution_count": 17,
   "id": "crazy-combat",
   "metadata": {},
   "outputs": [
    {
     "data": {
      "image/png": "[encoded data removed]",
      "text/plain": [
       "<Figure size 230.4x201.6 with 1 Axes>"
      ]
     },
     "metadata": {
      "needs_background": "light"
     },
     "output_type": "display_data"
    }
   ],
   "source": [
    "a = np.linspace(0, 50, 20)\n",
    "b = a\n",
    "fig = plt.figure(figsize = (3.2, 2.8))\n",
    "ax = fig.add_axes([0.18, 0.18, 0.75, 0.75])\n",
    "ax.scatter(predictions, target, c = 'tab:blue', s =40, linewidths=0, alpha = 0.6)\n",
    "ax.plot(a, b, color='tab:red', lw = 2, alpha = 0.6)\n",
    "\n",
    "ax.set_xlabel('Predicted -E (kJ mol$^{-1}$)')\n",
    "ax.set_ylabel('Actual -E (kJ mol$^{-1}$)')\n",
    "\n",
    "plt.savefig('model_eva_AdomW.jpg',dpi=600)\n",
    "plt.show()"
   ]
  },
  {
   "cell_type": "markdown",
   "id": "88b45f81-2bcb-4194-8f02-9927352430ad",
   "metadata": {},
   "source": [
    "## Predict"
   ]
  },
  {
   "cell_type": "code",
   "execution_count": 18,
   "id": "binding-emphasis",
   "metadata": {},
   "outputs": [],
   "source": [
    "# Prediction Algorithm\n",
    "def predict(values, model):\n",
    "    inputs = values.unsqueeze(0)\n",
    "    predictions = model(inputs)\n",
    "    prediction = predictions[0].detach()\n",
    "    print(\"The input values are:\", inputs.numpy()[0])\n",
    "    print(\"The H bond energy is:\", prediction.numpy()[0], 'kJ/mol')\n",
    "    return prediction"
   ]
  },
  {
   "cell_type": "code",
   "execution_count": 19,
   "id": "aware-screening",
   "metadata": {},
   "outputs": [
    {
     "name": "stdout",
     "output_type": "stream",
     "text": [
      "The input values are: [  2.9  166.     2.74 204.   145.  ]\n",
      "The H bond energy is: 16.106247 kJ/mol\n"
     ]
    },
    {
     "data": {
      "text/plain": [
       "tensor([16.1062])"
      ]
     },
     "execution_count": 19,
     "metadata": {},
     "output_type": "execute_result"
    }
   ],
   "source": [
    "values = Tensor([2.9, 166, 2.74, 204, 145])\n",
    "predict(values, model)"
   ]
  },
  {
   "cell_type": "markdown",
   "id": "9d664a72-b38a-46f3-9c26-61c753efac96",
   "metadata": {},
   "source": [
    "## Save machine learning model"
   ]
  },
  {
   "cell_type": "code",
   "execution_count": 22,
   "id": "interim-extraction",
   "metadata": {},
   "outputs": [],
   "source": [
    "# Save the model\n",
    "# save_path = './h-bond-model_AdomW.pth'\n",
    "save_path = './h-bond-model_AdomW02-03-23.pth'\n",
    "save(model.state_dict(), save_path)"
   ]
  },
  {
   "cell_type": "markdown",
   "id": "c6959973-2636-4fb5-bfcb-62cc64830923",
   "metadata": {},
   "source": [
    "## Load and use saved model"
   ]
  },
  {
   "cell_type": "code",
   "execution_count": 24,
   "id": "incorporated-danish",
   "metadata": {},
   "outputs": [
    {
     "data": {
      "text/plain": [
       "HbondModel(\n",
       "  (criterion): MSELoss()\n",
       "  (input_linear): Linear(in_features=5, out_features=30, bias=True)\n",
       "  (middle_linear): Linear(in_features=30, out_features=30, bias=True)\n",
       "  (output_linear): Linear(in_features=30, out_features=1, bias=True)\n",
       ")"
      ]
     },
     "execution_count": 24,
     "metadata": {},
     "output_type": "execute_result"
    }
   ],
   "source": [
    "# Loading the model\n",
    "hmodel = HbondModel(input_size = input_size, output_size = output_size)\n",
    "hmodel.load_state_dict(load(save_path))\n",
    "hmodel.eval()"
   ]
  },
  {
   "cell_type": "code",
   "execution_count": 25,
   "id": "0a0ab665-1fc4-4805-9eb8-6390833ea033",
   "metadata": {},
   "outputs": [
    {
     "name": "stdout",
     "output_type": "stream",
     "text": [
      "The input values are: [  2.9  166.     2.74 204.   145.  ]\n",
      "The H bond energy is: 16.106247 kJ/mol\n",
      "145.0 16.106246948242188\n"
     ]
    }
   ],
   "source": [
    "values = Tensor([2.9, 166, 2.74, 204, 145])\n",
    "predicts=predict(values, hmodel)\n",
    "print(values[-1].item(), predicts.item())"
   ]
  },
  {
   "cell_type": "code",
   "execution_count": 26,
   "id": "6cb8c7fc-8d8e-4911-bfa2-83258750859c",
   "metadata": {},
   "outputs": [
    {
     "data": {
      "image/png": "[encoded data removed]",
      "text/plain": [
       "<Figure size 230.4x201.6 with 1 Axes>"
      ]
     },
     "metadata": {
      "needs_background": "light"
     },
     "output_type": "display_data"
    }
   ],
   "source": [
    "fig = plt.figure(figsize=(3.2,2.8))\n",
    "ax = fig.add_axes([0.18, 0.18, 0.75, 0.75])\n",
    "\n",
    "ax.scatter(dataframe_raw.Δν, dataframe_raw.ΔH, c='tab:blue', s =40, alpha = 0.4, linewidths=0)\n",
    "ax.scatter(values[-1], predicts, color='tab:red', s =40, alpha = 0.6, edgecolors='k', label='MAPbI$_3$')\n",
    "\n",
    "ax.xaxis.set_major_locator(ticker.MultipleLocator(800))\n",
    "\n",
    "ax.set_xlabel('Δν (cm$^{-1}$)')\n",
    "ax.set_ylabel('- ΔH (kJ mol$^{-1}$)')\n",
    "\n",
    "ax.text(800, 15.5,  f'{\"%.2f\" % predicts.item()} kJ mol$^{-1}$', ha='center', va = 'center')\n",
    "\n",
    "plt.legend(frameon=False)\n",
    "# plt.savefig('v-h plot.jpg',dpi=600)\n",
    "plt.show()"
   ]
  },
  {
   "cell_type": "code",
   "execution_count": 27,
   "id": "bac268aa-9922-4265-91b0-c894fb09d4fc",
   "metadata": {},
   "outputs": [
    {
     "name": "stdout",
     "output_type": "stream",
     "text": [
      "The input values are: [[  2.9    166.       2.74   204.     145.    ]\n",
      " [  3.41   150.       2.9    166.     350.2602]\n",
      " [  2.9    166.       3.41   150.     265.64  ]\n",
      " [  3.41   150.       2.9    166.     281.572 ]\n",
      " [  3.41   150.       3.41   150.      87.    ]\n",
      " [  3.41   150.       3.41   150.     237.8   ]\n",
      " [  2.48   177.       2.9    166.      85.84  ]\n",
      " [  2.48   177.       3.41   150.      82.36  ]\n",
      " [  3.41   150.       2.9    166.     329.5775]]\n",
      "The H bond energy is: [16.106247] kJ/mol\n",
      "[[16.106247]\n",
      " [24.931105]\n",
      " [21.201435]\n",
      " [22.096285]\n",
      " [10.129368]\n",
      " [19.428146]\n",
      " [10.347834]\n",
      " [ 9.658991]\n",
      " [24.080935]]\n"
     ]
    }
   ],
   "source": [
    "values = Tensor([[2.9, 166, 2.74, 204, 145],\n",
    "                      [   3.4100,  150.0000,    2.9000,  166.0000,  350.2602],\n",
    "                      [   2.9000,  166.0000,    3.4100,  150.0000,  265.6400],\n",
    "                      [   3.4100,  150.0000,    2.9000,  166.0000,  281.5720],\n",
    "                      [   3.4100,  150.0000,    3.4100,  150.0000,   87.0000],\n",
    "                      [   3.4100,  150.0000,    3.4100,  150.0000,  237.8000],\n",
    "                      [   2.4800,  177.0000,    2.9000,  166.0000,   85.8400],\n",
    "                      [   2.4800,  177.0000,    3.4100,  150.0000,   82.3600],\n",
    "                      [   3.4100,  150.0000,    2.9000,  166.0000,  329.5775]])\n",
    "# values=values[:]\n",
    "predicts=predict(values, hmodel)\n",
    "np.set_printoptions(suppress=True)\n",
    "print(predicts.numpy())"
   ]
  }
 ],
 "metadata": {
  "kernelspec": {
   "display_name": "Python 3 (ipykernel)",
   "language": "python",
   "name": "python3"
  },
  "language_info": {
   "codemirror_mode": {
    "name": "ipython",
    "version": 3
   },
   "file_extension": ".py",
   "mimetype": "text/x-python",
   "name": "python",
   "nbconvert_exporter": "python",
   "pygments_lexer": "ipython3",
   "version": "3.9.9"
  }
 },
 "nbformat": 4,
 "nbformat_minor": 5
}
